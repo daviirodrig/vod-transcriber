{
 "cells": [
  {
   "cell_type": "code",
   "execution_count": null,
   "metadata": {},
   "outputs": [],
   "source": [
    "!sudo apt update\n",
    "!sudo apt install aria2 ffmpeg yt-dlp -y\n",
    "!git clone https://github.com/daviirodrig/vod-transcriber\n",
    "%cd vod-transcriber/\n",
    "%pip install -r requirements.txt\n"
   ]
  },
  {
   "cell_type": "code",
   "execution_count": null,
   "metadata": {},
   "outputs": [],
   "source": [
    "!echo \"TWITCH_SECRET=CHANGE_ME\"  > .env\n",
    "!echo \"TWITCH_ID=CHANGE_ME\"     >> .env\n",
    "!echo \"RABBIT_HOST=CHANGE_ME\"   >> .env\n",
    "!echo \"RABBIT_USER=CHANGE_ME\"   >> .env\n",
    "!echo \"RABBIT_PASS=CHANGE_ME\"   >> .env\n",
    "!echo \"STREAMER_NAME=CHANGE_ME\" >> .env\n",
    "!echo \"DETA_DRIVE_KEY=CHANGE_ME\">> .env\n",
    "!echo \"project_id=CHANGE_ME\" >> .env\n",
    "!echo \"drive_name=CHANGE_ME\"  >> .env\n",
    "!echo \"REDIS_HOST=CHANGE_ME\" >> .env\n",
    "!echo \"REDIS_PASSWORD=CHANGE_ME\" >> .env\n"
   ]
  },
  {
   "cell_type": "code",
   "execution_count": null,
   "metadata": {},
   "outputs": [],
   "source": [
    "!python src/worker.py\n"
   ]
  },
  {
   "cell_type": "code",
   "execution_count": null,
   "metadata": {},
   "outputs": [],
   "source": [
    "#!whisperx download/v123.mp4 --model large-v2 --device cpu --language pt --batch_size 16 --compute_type int8 --output_format all --output_dir ./output_cli\n"
   ]
  }
 ],
 "metadata": {
  "kernelspec": {
   "display_name": ".venv",
   "language": "python",
   "name": "python3"
  },
  "language_info": {
   "codemirror_mode": {
    "name": "ipython",
    "version": 3
   },
   "file_extension": ".py",
   "mimetype": "text/x-python",
   "name": "python",
   "nbconvert_exporter": "python",
   "pygments_lexer": "ipython3",
   "version": "3.11.5"
  },
  "orig_nbformat": 4
 },
 "nbformat": 4,
 "nbformat_minor": 2
}
